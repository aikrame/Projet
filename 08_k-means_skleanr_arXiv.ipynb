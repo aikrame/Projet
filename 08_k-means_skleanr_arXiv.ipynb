{
 "cells": [
  {
   "cell_type": "markdown",
   "metadata": {},
   "source": [
    "## Clustering text documents using k-means\n",
    "\n",
    "This notebook follows the sklearn documentation. The original links is [here](https://scikit-learn.org/stable/auto_examples/text/plot_document_clustering.html#sphx-glr-auto-examples-text-plot-document-clustering-py)"
   ]
  },
  {
   "cell_type": "code",
   "execution_count": 1,
   "metadata": {},
   "outputs": [],
   "source": [
    "from sklearn.feature_extraction.text import TfidfVectorizer\n",
    "from sklearn.feature_extraction.text import TfidfTransformer\n",
    "from sklearn.preprocessing import Normalizer\n",
    "from sklearn import metrics\n",
    "\n",
    "from sklearn.cluster import KMeans, MiniBatchKMeans\n",
    "\n",
    "import logging\n",
    "from optparse import OptionParser\n",
    "import sys\n",
    "from time import time\n",
    "\n",
    "import numpy as np\n",
    "import pandas as pd\n"
   ]
  },
  {
   "cell_type": "code",
   "execution_count": 2,
   "metadata": {},
   "outputs": [],
   "source": [
    "corpus = pd.read_csv(\"./arxiv_articles_simplified.csv\", sep=\"|\")"
   ]
  },
  {
   "cell_type": "code",
   "execution_count": 3,
   "metadata": {},
   "outputs": [
    {
     "data": {
      "text/html": [
       "<div>\n",
       "<style scoped>\n",
       "    .dataframe tbody tr th:only-of-type {\n",
       "        vertical-align: middle;\n",
       "    }\n",
       "\n",
       "    .dataframe tbody tr th {\n",
       "        vertical-align: top;\n",
       "    }\n",
       "\n",
       "    .dataframe thead th {\n",
       "        text-align: right;\n",
       "    }\n",
       "</style>\n",
       "<table border=\"1\" class=\"dataframe\">\n",
       "  <thead>\n",
       "    <tr style=\"text-align: right;\">\n",
       "      <th></th>\n",
       "      <th>id</th>\n",
       "      <th>title</th>\n",
       "      <th>authors</th>\n",
       "      <th>arxiv_primary_category</th>\n",
       "      <th>summary</th>\n",
       "      <th>published</th>\n",
       "      <th>updated</th>\n",
       "      <th>general_category</th>\n",
       "    </tr>\n",
       "  </thead>\n",
       "  <tbody>\n",
       "    <tr>\n",
       "      <td>0</td>\n",
       "      <td>http://arxiv.org/abs/2001.05867v1</td>\n",
       "      <td>$σ$-Lacunary actions of Polish groups</td>\n",
       "      <td>Jan Grebik</td>\n",
       "      <td>math.LO</td>\n",
       "      <td>We show that every essentially countable orbit...</td>\n",
       "      <td>2020-01-16T15:09:02Z</td>\n",
       "      <td>2020-01-16T15:09:02Z</td>\n",
       "      <td>math</td>\n",
       "    </tr>\n",
       "    <tr>\n",
       "      <td>1</td>\n",
       "      <td>http://arxiv.org/abs/1303.6933v1</td>\n",
       "      <td>Hans Grauert (1930-2011)</td>\n",
       "      <td>Alan Huckleberry</td>\n",
       "      <td>math.HO</td>\n",
       "      <td>Hans Grauert died in September of 2011. This a...</td>\n",
       "      <td>2013-03-27T19:23:57Z</td>\n",
       "      <td>2013-03-27T19:23:57Z</td>\n",
       "      <td>math</td>\n",
       "    </tr>\n",
       "    <tr>\n",
       "      <td>2</td>\n",
       "      <td>http://arxiv.org/abs/1407.3775v1</td>\n",
       "      <td>A New Proof of Stirling's Formula</td>\n",
       "      <td>Thorsten Neuschel</td>\n",
       "      <td>math.HO</td>\n",
       "      <td>A new simple proof of Stirling's formula via t...</td>\n",
       "      <td>2014-07-10T11:26:39Z</td>\n",
       "      <td>2014-07-10T11:26:39Z</td>\n",
       "      <td>math</td>\n",
       "    </tr>\n",
       "    <tr>\n",
       "      <td>3</td>\n",
       "      <td>http://arxiv.org/abs/math/0307381v3</td>\n",
       "      <td>On Dequantization of Fedosov's Deformation Qua...</td>\n",
       "      <td>Alexander V. Karabegov</td>\n",
       "      <td>math.QA</td>\n",
       "      <td>To each natural deformation quantization on a ...</td>\n",
       "      <td>2003-07-30T06:20:33Z</td>\n",
       "      <td>2003-09-20T01:29:18Z</td>\n",
       "      <td>math</td>\n",
       "    </tr>\n",
       "    <tr>\n",
       "      <td>4</td>\n",
       "      <td>http://arxiv.org/abs/1604.06794v1</td>\n",
       "      <td>Cyclic extensions are radical</td>\n",
       "      <td>Mariano Suárez-Álvarez</td>\n",
       "      <td>math.HO</td>\n",
       "      <td>We show that finite Galois extensions with cyc...</td>\n",
       "      <td>2016-04-21T22:24:54Z</td>\n",
       "      <td>2016-04-21T22:24:54Z</td>\n",
       "      <td>math</td>\n",
       "    </tr>\n",
       "  </tbody>\n",
       "</table>\n",
       "</div>"
      ],
      "text/plain": [
       "                                    id  \\\n",
       "0    http://arxiv.org/abs/2001.05867v1   \n",
       "1     http://arxiv.org/abs/1303.6933v1   \n",
       "2     http://arxiv.org/abs/1407.3775v1   \n",
       "3  http://arxiv.org/abs/math/0307381v3   \n",
       "4    http://arxiv.org/abs/1604.06794v1   \n",
       "\n",
       "                                               title                 authors  \\\n",
       "0              $σ$-Lacunary actions of Polish groups              Jan Grebik   \n",
       "1                           Hans Grauert (1930-2011)        Alan Huckleberry   \n",
       "2                  A New Proof of Stirling's Formula       Thorsten Neuschel   \n",
       "3  On Dequantization of Fedosov's Deformation Qua...  Alexander V. Karabegov   \n",
       "4                      Cyclic extensions are radical  Mariano Suárez-Álvarez   \n",
       "\n",
       "  arxiv_primary_category                                            summary  \\\n",
       "0                math.LO  We show that every essentially countable orbit...   \n",
       "1                math.HO  Hans Grauert died in September of 2011. This a...   \n",
       "2                math.HO  A new simple proof of Stirling's formula via t...   \n",
       "3                math.QA  To each natural deformation quantization on a ...   \n",
       "4                math.HO  We show that finite Galois extensions with cyc...   \n",
       "\n",
       "              published               updated general_category  \n",
       "0  2020-01-16T15:09:02Z  2020-01-16T15:09:02Z             math  \n",
       "1  2013-03-27T19:23:57Z  2013-03-27T19:23:57Z             math  \n",
       "2  2014-07-10T11:26:39Z  2014-07-10T11:26:39Z             math  \n",
       "3  2003-07-30T06:20:33Z  2003-09-20T01:29:18Z             math  \n",
       "4  2016-04-21T22:24:54Z  2016-04-21T22:24:54Z             math  "
      ]
     },
     "execution_count": 3,
     "metadata": {},
     "output_type": "execute_result"
    }
   ],
   "source": [
    "corpus.iloc[:5, :]"
   ]
  },
  {
   "cell_type": "code",
   "execution_count": 4,
   "metadata": {},
   "outputs": [
    {
     "name": "stdout",
     "output_type": "stream",
     "text": [
      "True number of categories 8\n"
     ]
    }
   ],
   "source": [
    "true_k = len(corpus[\"general_category\"].unique())\n",
    "print(\"True number of categories {}\".format(true_k))\n",
    "n_features = 10000"
   ]
  },
  {
   "cell_type": "code",
   "execution_count": 5,
   "metadata": {},
   "outputs": [],
   "source": [
    "categories = corpus[\"general_category\"].unique()\n",
    "labels = [np.where(categories==c)[0][0] for c in corpus[\"general_category\"]]"
   ]
  },
  {
   "cell_type": "code",
   "execution_count": 6,
   "metadata": {},
   "outputs": [],
   "source": [
    "vectorizer = TfidfVectorizer(max_df=0.5, max_features=n_features,\n",
    "                                 min_df=2, stop_words='english',\n",
    "                                 use_idf=True)\n",
    "X = vectorizer.fit_transform(corpus[\"summary\"])"
   ]
  },
  {
   "cell_type": "code",
   "execution_count": 7,
   "metadata": {},
   "outputs": [],
   "source": [
    "mb_km = MiniBatchKMeans(n_clusters=true_k, init='k-means++', n_init=1,\n",
    "                         init_size=1000, batch_size=1000, verbose=False)\n",
    "km = KMeans(n_clusters=true_k, init='k-means++', max_iter=100, n_init=1,\n",
    "                verbose=False)"
   ]
  },
  {
   "cell_type": "code",
   "execution_count": 8,
   "metadata": {},
   "outputs": [
    {
     "name": "stdout",
     "output_type": "stream",
     "text": [
      "Clustering sparse data with KMeans(algorithm='auto', copy_x=True, init='k-means++', max_iter=100,\n",
      "       n_clusters=8, n_init=1, n_jobs=None, precompute_distances='auto',\n",
      "       random_state=None, tol=0.0001, verbose=False)\n",
      "done in 120.433s\n",
      "\n",
      "Homogeneity: 0.353\n",
      "Completeness: 0.366\n",
      "V-measure: 0.359\n",
      "Adjusted Rand-Index: 0.211\n",
      "Silhouette Coefficient: 0.003\n",
      "\n"
     ]
    }
   ],
   "source": [
    "print(\"Clustering sparse data with %s\" % km)\n",
    "t0 = time()\n",
    "km.fit(X)\n",
    "print(\"done in %0.3fs\" % (time() - t0))\n",
    "print()\n",
    "\n",
    "print(\"Homogeneity: %0.3f\" % metrics.homogeneity_score(labels, km.labels_))\n",
    "print(\"Completeness: %0.3f\" % metrics.completeness_score(labels, km.labels_))\n",
    "print(\"V-measure: %0.3f\" % metrics.v_measure_score(labels, km.labels_))\n",
    "print(\"Adjusted Rand-Index: %.3f\"\n",
    "      % metrics.adjusted_rand_score(labels, km.labels_))\n",
    "print(\"Silhouette Coefficient: %0.3f\"\n",
    "      % metrics.silhouette_score(X, km.labels_, sample_size=1000))\n",
    "\n",
    "print()"
   ]
  },
  {
   "cell_type": "code",
   "execution_count": 9,
   "metadata": {},
   "outputs": [
    {
     "name": "stdout",
     "output_type": "stream",
     "text": [
      "Top terms per cluster:\n",
      "Cluster 0: stars ray mass star stellar observations planets emission planet disk\n",
      "Cluster 1: paper model time theory results based new problem using study\n",
      "Cluster 2: data network networks model learning models method based analysis methods\n",
      "Cluster 3: cell model cells dynamics energy field growth time magnetic equations\n",
      "Cluster 4: estimator regression estimation estimators method data test sample asymptotic model\n",
      "Cluster 5: bayesian algorithm monte carlo model models posterior markov inference sampling\n",
      "Cluster 6: gene protein dna genes expression proteins genome sequence sequences binding\n",
      "Cluster 7: market risk price model volatility optimal financial time portfolio problem\n"
     ]
    }
   ],
   "source": [
    "print(\"Top terms per cluster:\")\n",
    "order_centroids = km.cluster_centers_.argsort()[:, ::-1]\n",
    "terms = vectorizer.get_feature_names()\n",
    "for i in range(true_k):\n",
    "    print(\"Cluster %d:\" % i, end='')\n",
    "    for ind in order_centroids[i, :10]:\n",
    "        print(' %s' % terms[ind], end='')\n",
    "    print()"
   ]
  },
  {
   "cell_type": "code",
   "execution_count": 10,
   "metadata": {},
   "outputs": [
    {
     "name": "stdout",
     "output_type": "stream",
     "text": [
      "Clustering sparse data with MiniBatchKMeans(batch_size=1000, compute_labels=True, init='k-means++',\n",
      "                init_size=1000, max_iter=100, max_no_improvement=10,\n",
      "                n_clusters=8, n_init=1, random_state=None,\n",
      "                reassignment_ratio=0.01, tol=0.0, verbose=False)\n",
      "done in 0.196s\n",
      "\n",
      "Homogeneity: 0.354\n",
      "Completeness: 0.382\n",
      "V-measure: 0.368\n",
      "Adjusted Rand-Index: 0.261\n",
      "Silhouette Coefficient: 0.003\n",
      "\n"
     ]
    }
   ],
   "source": [
    "print(\"Clustering sparse data with %s\" % mb_km)\n",
    "t0 = time()\n",
    "mb_km.fit(X)\n",
    "print(\"done in %0.3fs\" % (time() - t0))\n",
    "print()\n",
    "\n",
    "print(\"Homogeneity: %0.3f\" % metrics.homogeneity_score(labels, mb_km.labels_))\n",
    "print(\"Completeness: %0.3f\" % metrics.completeness_score(labels, mb_km.labels_))\n",
    "print(\"V-measure: %0.3f\" % metrics.v_measure_score(labels, mb_km.labels_))\n",
    "print(\"Adjusted Rand-Index: %.3f\"\n",
    "      % metrics.adjusted_rand_score(labels, mb_km.labels_))\n",
    "print(\"Silhouette Coefficient: %0.3f\"\n",
    "      % metrics.silhouette_score(X, mb_km.labels_, sample_size=1000))\n",
    "\n",
    "print()"
   ]
  },
  {
   "cell_type": "code",
   "execution_count": 11,
   "metadata": {},
   "outputs": [
    {
     "name": "stdout",
     "output_type": "stream",
     "text": [
      "Top terms per cluster:\n",
      "Cluster 0: paper data based systems new theory analysis present time using\n",
      "Cluster 1: stars ray mass star stellar emission observations disk planets 10\n",
      "Cluster 2: monte carlo markov sampling bayesian algorithm posterior chain mcmc inference\n",
      "Cluster 3: risk portfolio measures model default credit financial measure value market\n",
      "Cluster 4: problem optimal model time volatility stochastic process pricing function options\n",
      "Cluster 5: model cell network cells protein networks dynamics dna gene time\n",
      "Cluster 6: market price stock financial markets trading model time volatility prices\n",
      "Cluster 7: data model method models estimation regression methods based estimator proposed\n"
     ]
    }
   ],
   "source": [
    "print(\"Top terms per cluster:\")\n",
    "order_centroids = mb_km.cluster_centers_.argsort()[:, ::-1]\n",
    "terms = vectorizer.get_feature_names()\n",
    "for i in range(true_k):\n",
    "    print(\"Cluster %d:\" % i, end='')\n",
    "    for ind in order_centroids[i, :10]:\n",
    "        print(' %s' % terms[ind], end='')\n",
    "    print()"
   ]
  },
  {
   "cell_type": "code",
   "execution_count": 13,
   "metadata": {},
   "outputs": [
    {
     "data": {
      "text/plain": [
       "array([1, 1, 1, ..., 1, 2, 1], dtype=int32)"
      ]
     },
     "execution_count": 13,
     "metadata": {},
     "output_type": "execute_result"
    }
   ],
   "source": [
    "# View the results of the classification\n",
    "km.labels_"
   ]
  },
  {
   "cell_type": "code",
   "execution_count": 14,
   "metadata": {},
   "outputs": [
    {
     "data": {
      "text/plain": [
       "array([0, 0, 0, ..., 0, 7, 0], dtype=int32)"
      ]
     },
     "execution_count": 14,
     "metadata": {},
     "output_type": "execute_result"
    }
   ],
   "source": [
    "# View the results of the classification\n",
    "mb_km.labels_"
   ]
  },
  {
   "cell_type": "code",
   "execution_count": null,
   "metadata": {},
   "outputs": [],
   "source": []
  }
 ],
 "metadata": {
  "kernelspec": {
   "display_name": "Python 3",
   "language": "python",
   "name": "python3"
  },
  "language_info": {
   "codemirror_mode": {
    "name": "ipython",
    "version": 3
   },
   "file_extension": ".py",
   "mimetype": "text/x-python",
   "name": "python",
   "nbconvert_exporter": "python",
   "pygments_lexer": "ipython3",
   "version": "3.7.4"
  }
 },
 "nbformat": 4,
 "nbformat_minor": 2
}
